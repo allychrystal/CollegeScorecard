{
 "cells": [
  {
   "cell_type": "code",
   "execution_count": 74,
   "metadata": {
    "collapsed": true
   },
   "outputs": [],
   "source": [
    "import requests\n",
    "import json\n",
    "import pandas as pd"
   ]
  },
  {
   "cell_type": "code",
   "execution_count": 114,
   "metadata": {},
   "outputs": [],
   "source": [
    "df = pd.read_csv('Net_Price_FINAL')"
   ]
  },
  {
   "cell_type": "code",
   "execution_count": 115,
   "metadata": {},
   "outputs": [],
   "source": [
    "df = df.set_index('id')"
   ]
  },
  {
   "cell_type": "code",
   "execution_count": 116,
   "metadata": {
    "collapsed": true
   },
   "outputs": [],
   "source": [
    "df_2 = pd.read_csv('Prog_2_FINAL')"
   ]
  },
  {
   "cell_type": "code",
   "execution_count": 117,
   "metadata": {},
   "outputs": [],
   "source": [
    "df_2 = df_2.set_index('id')"
   ]
  },
  {
   "cell_type": "code",
   "execution_count": 118,
   "metadata": {
    "collapsed": true
   },
   "outputs": [],
   "source": [
    "df_3 = pd.read_csv('Debt_Earn_Final')"
   ]
  },
  {
   "cell_type": "code",
   "execution_count": 119,
   "metadata": {
    "collapsed": true
   },
   "outputs": [],
   "source": [
    "df_3 = df_3.set_index('id')"
   ]
  },
  {
   "cell_type": "code",
   "execution_count": 120,
   "metadata": {
    "collapsed": true
   },
   "outputs": [],
   "source": [
    "df_final =  pd.concat([df, df_2, df_3], axis=1, join='inner')"
   ]
  },
  {
   "cell_type": "code",
   "execution_count": 121,
   "metadata": {},
   "outputs": [
    {
     "data": {
      "text/plain": [
       "(6084, 4)"
      ]
     },
     "execution_count": 121,
     "metadata": {},
     "output_type": "execute_result"
    }
   ],
   "source": [
    "df.shape"
   ]
  },
  {
   "cell_type": "code",
   "execution_count": 122,
   "metadata": {},
   "outputs": [],
   "source": [
    "df_final.columns = ['Average_Price', 'Low_Income_Price', 'High_Income_Price', 'School',\n",
    "       'school.name2', 'Sci', 'Tech_Engn', 'Bus_Math', 'Specialty', 'Trade',\n",
    "       'Lib_Arts', 'Other', 'Median_Debt', 'Mean_Earnings', 'Repayment',\n",
    "       'school.name3']"
   ]
  },
  {
   "cell_type": "code",
   "execution_count": 123,
   "metadata": {},
   "outputs": [],
   "source": [
    "df_final.drop('school.name2', axis=1, inplace= True)"
   ]
  },
  {
   "cell_type": "code",
   "execution_count": 124,
   "metadata": {
    "collapsed": true
   },
   "outputs": [],
   "source": [
    "df_final.drop('school.name3', axis=1, inplace= True)"
   ]
  },
  {
   "cell_type": "code",
   "execution_count": 125,
   "metadata": {},
   "outputs": [
    {
     "data": {
      "text/plain": [
       "Average_Price          0\n",
       "Low_Income_Price       0\n",
       "High_Income_Price      0\n",
       "School                 0\n",
       "Sci                    0\n",
       "Tech_Engn              0\n",
       "Bus_Math               0\n",
       "Specialty              0\n",
       "Trade                  0\n",
       "Lib_Arts               0\n",
       "Other                  0\n",
       "Median_Debt          569\n",
       "Mean_Earnings        715\n",
       "Repayment            520\n",
       "dtype: int64"
      ]
     },
     "execution_count": 125,
     "metadata": {},
     "output_type": "execute_result"
    }
   ],
   "source": [
    "df_final.isnull().sum()"
   ]
  },
  {
   "cell_type": "code",
   "execution_count": 128,
   "metadata": {
    "collapsed": true
   },
   "outputs": [],
   "source": [
    "df_final = df_final.dropna()"
   ]
  },
  {
   "cell_type": "code",
   "execution_count": 129,
   "metadata": {},
   "outputs": [
    {
     "data": {
      "text/plain": [
       "(4514, 14)"
      ]
     },
     "execution_count": 129,
     "metadata": {},
     "output_type": "execute_result"
    }
   ],
   "source": [
    "df_final.shape"
   ]
  },
  {
   "cell_type": "code",
   "execution_count": 130,
   "metadata": {},
   "outputs": [],
   "source": [
    "df_final.drop('Other', axis=1, inplace=True)"
   ]
  },
  {
   "cell_type": "code",
   "execution_count": 131,
   "metadata": {},
   "outputs": [
    {
     "data": {
      "text/plain": [
       "(4514, 13)"
      ]
     },
     "execution_count": 131,
     "metadata": {},
     "output_type": "execute_result"
    }
   ],
   "source": [
    "df_final.shape"
   ]
  },
  {
   "cell_type": "code",
   "execution_count": 133,
   "metadata": {},
   "outputs": [
    {
     "data": {
      "text/html": [
       "<div>\n",
       "<style>\n",
       "    .dataframe thead tr:only-child th {\n",
       "        text-align: right;\n",
       "    }\n",
       "\n",
       "    .dataframe thead th {\n",
       "        text-align: left;\n",
       "    }\n",
       "\n",
       "    .dataframe tbody tr th {\n",
       "        vertical-align: top;\n",
       "    }\n",
       "</style>\n",
       "<table border=\"1\" class=\"dataframe\">\n",
       "  <thead>\n",
       "    <tr style=\"text-align: right;\">\n",
       "      <th></th>\n",
       "      <th>Average_Price</th>\n",
       "      <th>Low_Income_Price</th>\n",
       "      <th>High_Income_Price</th>\n",
       "      <th>School</th>\n",
       "      <th>Sci</th>\n",
       "      <th>Tech_Engn</th>\n",
       "      <th>Bus_Math</th>\n",
       "      <th>Specialty</th>\n",
       "      <th>Trade</th>\n",
       "      <th>Lib_Arts</th>\n",
       "      <th>Median_Debt</th>\n",
       "      <th>Mean_Earnings</th>\n",
       "      <th>Repayment</th>\n",
       "    </tr>\n",
       "    <tr>\n",
       "      <th>id</th>\n",
       "      <th></th>\n",
       "      <th></th>\n",
       "      <th></th>\n",
       "      <th></th>\n",
       "      <th></th>\n",
       "      <th></th>\n",
       "      <th></th>\n",
       "      <th></th>\n",
       "      <th></th>\n",
       "      <th></th>\n",
       "      <th></th>\n",
       "      <th></th>\n",
       "      <th></th>\n",
       "    </tr>\n",
       "  </thead>\n",
       "  <tbody>\n",
       "    <tr>\n",
       "      <th>459587</th>\n",
       "      <td>21655.0</td>\n",
       "      <td>20584.0</td>\n",
       "      <td>25911.0</td>\n",
       "      <td>ITT Technical Institute-Merrillville</td>\n",
       "      <td>0.0</td>\n",
       "      <td>0.3703</td>\n",
       "      <td>0.0000</td>\n",
       "      <td>0.0000</td>\n",
       "      <td>0.0833</td>\n",
       "      <td>0.5463</td>\n",
       "      <td>24975.5</td>\n",
       "      <td>43100.0</td>\n",
       "      <td>27039.0</td>\n",
       "    </tr>\n",
       "    <tr>\n",
       "      <th>459639</th>\n",
       "      <td>22631.0</td>\n",
       "      <td>21705.0</td>\n",
       "      <td>26613.0</td>\n",
       "      <td>ITT Technical Institute-Corona</td>\n",
       "      <td>0.0</td>\n",
       "      <td>1.0000</td>\n",
       "      <td>0.0000</td>\n",
       "      <td>0.0000</td>\n",
       "      <td>0.0000</td>\n",
       "      <td>0.0000</td>\n",
       "      <td>24975.5</td>\n",
       "      <td>43100.0</td>\n",
       "      <td>27039.0</td>\n",
       "    </tr>\n",
       "    <tr>\n",
       "      <th>459648</th>\n",
       "      <td>20401.0</td>\n",
       "      <td>19040.0</td>\n",
       "      <td>25173.0</td>\n",
       "      <td>ITT Technical Institute-Johnson City</td>\n",
       "      <td>0.0</td>\n",
       "      <td>0.8182</td>\n",
       "      <td>0.0000</td>\n",
       "      <td>0.1818</td>\n",
       "      <td>0.0000</td>\n",
       "      <td>0.0000</td>\n",
       "      <td>24975.5</td>\n",
       "      <td>43100.0</td>\n",
       "      <td>27039.0</td>\n",
       "    </tr>\n",
       "    <tr>\n",
       "      <th>459666</th>\n",
       "      <td>22292.0</td>\n",
       "      <td>19189.0</td>\n",
       "      <td>24058.0</td>\n",
       "      <td>ITT Technical Institute-North Charleston</td>\n",
       "      <td>0.0</td>\n",
       "      <td>1.0000</td>\n",
       "      <td>0.0000</td>\n",
       "      <td>0.0000</td>\n",
       "      <td>0.0000</td>\n",
       "      <td>0.0000</td>\n",
       "      <td>24975.5</td>\n",
       "      <td>43100.0</td>\n",
       "      <td>27039.0</td>\n",
       "    </tr>\n",
       "    <tr>\n",
       "      <th>459709</th>\n",
       "      <td>21891.0</td>\n",
       "      <td>21580.0</td>\n",
       "      <td>24039.0</td>\n",
       "      <td>ITT Technical Institute-Dearborn</td>\n",
       "      <td>0.0</td>\n",
       "      <td>0.6172</td>\n",
       "      <td>0.0703</td>\n",
       "      <td>0.0469</td>\n",
       "      <td>0.2500</td>\n",
       "      <td>0.0156</td>\n",
       "      <td>24975.5</td>\n",
       "      <td>43100.0</td>\n",
       "      <td>27039.0</td>\n",
       "    </tr>\n",
       "  </tbody>\n",
       "</table>\n",
       "</div>"
      ],
      "text/plain": [
       "        Average_Price  Low_Income_Price  High_Income_Price  \\\n",
       "id                                                           \n",
       "459587        21655.0           20584.0            25911.0   \n",
       "459639        22631.0           21705.0            26613.0   \n",
       "459648        20401.0           19040.0            25173.0   \n",
       "459666        22292.0           19189.0            24058.0   \n",
       "459709        21891.0           21580.0            24039.0   \n",
       "\n",
       "                                          School  Sci  Tech_Engn  Bus_Math  \\\n",
       "id                                                                           \n",
       "459587      ITT Technical Institute-Merrillville  0.0     0.3703    0.0000   \n",
       "459639            ITT Technical Institute-Corona  0.0     1.0000    0.0000   \n",
       "459648      ITT Technical Institute-Johnson City  0.0     0.8182    0.0000   \n",
       "459666  ITT Technical Institute-North Charleston  0.0     1.0000    0.0000   \n",
       "459709          ITT Technical Institute-Dearborn  0.0     0.6172    0.0703   \n",
       "\n",
       "        Specialty   Trade  Lib_Arts  Median_Debt  Mean_Earnings  Repayment  \n",
       "id                                                                          \n",
       "459587     0.0000  0.0833    0.5463      24975.5        43100.0    27039.0  \n",
       "459639     0.0000  0.0000    0.0000      24975.5        43100.0    27039.0  \n",
       "459648     0.1818  0.0000    0.0000      24975.5        43100.0    27039.0  \n",
       "459666     0.0000  0.0000    0.0000      24975.5        43100.0    27039.0  \n",
       "459709     0.0469  0.2500    0.0156      24975.5        43100.0    27039.0  "
      ]
     },
     "execution_count": 133,
     "metadata": {},
     "output_type": "execute_result"
    }
   ],
   "source": [
    "df_final.head()"
   ]
  },
  {
   "cell_type": "code",
   "execution_count": 134,
   "metadata": {
    "collapsed": true
   },
   "outputs": [],
   "source": [
    "df_final.to_csv(path_or_buf = 'DB_FINAL', index=False)"
   ]
  }
 ],
 "metadata": {
  "kernelspec": {
   "display_name": "Python 3",
   "language": "python",
   "name": "python3"
  },
  "language_info": {
   "codemirror_mode": {
    "name": "ipython",
    "version": 3
   },
   "file_extension": ".py",
   "mimetype": "text/x-python",
   "name": "python",
   "nbconvert_exporter": "python",
   "pygments_lexer": "ipython3",
   "version": "3.6.1"
  }
 },
 "nbformat": 4,
 "nbformat_minor": 2
}
