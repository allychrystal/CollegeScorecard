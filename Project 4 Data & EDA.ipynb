{
 "cells": [
  {
   "cell_type": "code",
   "execution_count": 265,
   "metadata": {
    "collapsed": true
   },
   "outputs": [],
   "source": [
    "import requests\n",
    "import json\n",
    "import pandas as pd"
   ]
  },
  {
   "cell_type": "markdown",
   "metadata": {},
   "source": [
    "## Obtain API Key to Access Data"
   ]
  },
  {
   "cell_type": "code",
   "execution_count": 266,
   "metadata": {
    "collapsed": true
   },
   "outputs": [],
   "source": [
    "api_key = 'ZXCH94jmLisJ8b72hhJC31sCKyZHmEwBxTcp763u'"
   ]
  },
  {
   "cell_type": "markdown",
   "metadata": {},
   "source": [
    "## Obtain Data"
   ]
  },
  {
   "cell_type": "code",
   "execution_count": 267,
   "metadata": {
    "collapsed": true
   },
   "outputs": [],
   "source": [
    "link = 'https://api.data.gov/ed/collegescorecard/v1/schools.json?&_fields=school.name,id,2015.cost.avg_net_price.overall,2015.cost.net_price.public.by_income_level.0-30000,2015.cost.net_price.public.by_income_level.110001-plus,2015.cost.net_price.public.by_income_level.30001-48000,2015.cost.net_price.public.by_income_level.48001-75000,2015.cost.net_price.public.by_income_level.75001-110000,2015.cost.net_price.public.by_income_level.75000-plus,2015.cost.net_price.private.by_income_level.0-30000,2015.cost.net_price.private.by_income_level.110001-plus,2015.cost.net_price.private.by_income_level.30001-48000,2015.cost.net_price.private.by_income_level.48001-75000,2015.cost.net_price.private.by_income_level.75001-110000,2015.cost.net_price.private.by_income_level.75000-plus,2015.admissions.sat_scores.average.overall,2015.admissions.sat_scores.25th_percentile.critical_reading,2015.admissions.sat_scores.25th_percentile.math,2015.admissions.sat_scores.25th_percentile.writing,2015.admissions.sat_scores.75th_percentile.critical_reading,2015.admissions.sat_scores.75th_percentile.math,2015.admissions.sat_scores.75th_percentile.writing,2015.admissions.act_scores.25th_percentile.cumulative,2015.admissions.act_scores.75th_percentile.cumulative,2015.admissions.admission_rate.overall,2015.student.size,2015.cost.attendance.academic_year,school.tuition_revenue_per_fte,school.instructional_expenditure_per_fte,school.degrees_awarded.predominant,2015.aid.pell_grant_rate,2015.aid.federal_loan_rate,2015.aid.median_debt.completers.overall,2013.repayment.1_yr_repayment.completers,2013.earnings.10_yrs_after_entry.working_not_enrolled.mean_earnings&school.main_campus=1&school.operating=1&school.online_only=0&school.institutional_characteristics.level=1&2015.academics.program_available.assoc_or_bachelors=True'"
   ]
  },
  {
   "cell_type": "code",
   "execution_count": 268,
   "metadata": {},
   "outputs": [],
   "source": [
    "params = {\n",
    "        'api_key':api_key,\n",
    "        '_page':1,\n",
    "        '_per_page':100}"
   ]
  },
  {
   "cell_type": "code",
   "execution_count": 269,
   "metadata": {
    "collapsed": true,
    "scrolled": true
   },
   "outputs": [],
   "source": [
    "res = requests.get(link, params)\n",
    "schools = json.loads(res.content)"
   ]
  },
  {
   "cell_type": "code",
   "execution_count": 270,
   "metadata": {
    "scrolled": true
   },
   "outputs": [],
   "source": [
    "school_df = pd.DataFrame(schools['results'])"
   ]
  },
  {
   "cell_type": "markdown",
   "metadata": {},
   "source": [
    "### Code below gives error message only when it's done collecting data on all schools matching criteria.  "
   ]
  },
  {
   "cell_type": "code",
   "execution_count": 299,
   "metadata": {},
   "outputs": [],
   "source": [
    "for x in range (2, 202):\n",
    "    params = {\n",
    "        'api_key':api_key,\n",
    "        '_page':x,\n",
    "        '_per_page':100}\n",
    "    res = requests.get(link, params)\n",
    "    sc = json.loads(res.content)\n",
    "    sc2 = pd.DataFrame(sc['results'])\n",
    "    school_df = school_df.append(sc2)"
   ]
  },
  {
   "cell_type": "code",
   "execution_count": 272,
   "metadata": {},
   "outputs": [
    {
     "data": {
      "text/plain": [
       "(2009, 35)"
      ]
     },
     "execution_count": 272,
     "metadata": {},
     "output_type": "execute_result"
    }
   ],
   "source": [
    "school_df.shape"
   ]
  },
  {
   "cell_type": "code",
   "execution_count": 273,
   "metadata": {
    "scrolled": true
   },
   "outputs": [
    {
     "data": {
      "text/plain": [
       "2013.earnings.10_yrs_after_entry.working_not_enrolled.mean_earnings     174\n",
       "2013.repayment.1_yr_repayment.completers                                165\n",
       "2015.admissions.act_scores.25th_percentile.cumulative                   863\n",
       "2015.admissions.act_scores.75th_percentile.cumulative                   863\n",
       "2015.admissions.admission_rate.overall                                  428\n",
       "2015.admissions.sat_scores.25th_percentile.critical_reading             906\n",
       "2015.admissions.sat_scores.25th_percentile.math                         897\n",
       "2015.admissions.sat_scores.25th_percentile.writing                     1337\n",
       "2015.admissions.sat_scores.75th_percentile.critical_reading             906\n",
       "2015.admissions.sat_scores.75th_percentile.math                         897\n",
       "2015.admissions.sat_scores.75th_percentile.writing                     1337\n",
       "2015.admissions.sat_scores.average.overall                              827\n",
       "2015.aid.federal_loan_rate                                                5\n",
       "2015.aid.median_debt.completers.overall                                 162\n",
       "2015.aid.pell_grant_rate                                                  5\n",
       "2015.cost.attendance.academic_year                                      121\n",
       "2015.cost.avg_net_price.overall                                         106\n",
       "2015.cost.net_price.private.by_income_level.0-30000                     717\n",
       "2015.cost.net_price.private.by_income_level.110001-plus                 921\n",
       "2015.cost.net_price.private.by_income_level.30001-48000                 761\n",
       "2015.cost.net_price.private.by_income_level.48001-75000                 779\n",
       "2015.cost.net_price.private.by_income_level.75000-plus                  846\n",
       "2015.cost.net_price.private.by_income_level.75001-110000                863\n",
       "2015.cost.net_price.public.by_income_level.0-30000                     1412\n",
       "2015.cost.net_price.public.by_income_level.110001-plus                 1449\n",
       "2015.cost.net_price.public.by_income_level.30001-48000                 1415\n",
       "2015.cost.net_price.public.by_income_level.48001-75000                 1418\n",
       "2015.cost.net_price.public.by_income_level.75000-plus                  1428\n",
       "2015.cost.net_price.public.by_income_level.75001-110000                1430\n",
       "2015.student.size                                                         3\n",
       "id                                                                        0\n",
       "school.degrees_awarded.predominant                                        0\n",
       "school.instructional_expenditure_per_fte                                  0\n",
       "school.name                                                               0\n",
       "school.tuition_revenue_per_fte                                            0\n",
       "dtype: int64"
      ]
     },
     "execution_count": 273,
     "metadata": {},
     "output_type": "execute_result"
    }
   ],
   "source": [
    "school_df.isnull().sum()"
   ]
  },
  {
   "cell_type": "markdown",
   "metadata": {},
   "source": [
    "# Data Cleaning"
   ]
  },
  {
   "cell_type": "markdown",
   "metadata": {},
   "source": [
    "#### Feature Engineer: Filter Minimum Net Price, Maximum Net Price and Average Net Price"
   ]
  },
  {
   "cell_type": "code",
   "execution_count": 274,
   "metadata": {
    "collapsed": true
   },
   "outputs": [],
   "source": [
    "school_df['High_Net_Price'] = school_df[['2015.cost.avg_net_price.overall',\n",
    "       '2015.cost.net_price.private.by_income_level.0-30000',\n",
    "       '2015.cost.net_price.private.by_income_level.110001-plus',\n",
    "       '2015.cost.net_price.private.by_income_level.30001-48000',\n",
    "       '2015.cost.net_price.private.by_income_level.48001-75000',\n",
    "       '2015.cost.net_price.private.by_income_level.75000-plus',\n",
    "       '2015.cost.net_price.private.by_income_level.75001-110000',\n",
    "       '2015.cost.net_price.public.by_income_level.0-30000',\n",
    "       '2015.cost.net_price.public.by_income_level.110001-plus',\n",
    "       '2015.cost.net_price.public.by_income_level.30001-48000',\n",
    "       '2015.cost.net_price.public.by_income_level.48001-75000',\n",
    "       '2015.cost.net_price.public.by_income_level.75000-plus',\n",
    "       '2015.cost.net_price.public.by_income_level.75001-110000']].max(axis=1)"
   ]
  },
  {
   "cell_type": "code",
   "execution_count": 275,
   "metadata": {
    "collapsed": true
   },
   "outputs": [],
   "source": [
    "school_df['Low_Net_Price'] = school_df[['2015.cost.avg_net_price.overall',\n",
    "       '2015.cost.net_price.private.by_income_level.0-30000',\n",
    "       '2015.cost.net_price.private.by_income_level.110001-plus',\n",
    "       '2015.cost.net_price.private.by_income_level.30001-48000',\n",
    "       '2015.cost.net_price.private.by_income_level.48001-75000',\n",
    "       '2015.cost.net_price.private.by_income_level.75000-plus',\n",
    "       '2015.cost.net_price.private.by_income_level.75001-110000',\n",
    "       '2015.cost.net_price.public.by_income_level.0-30000',\n",
    "       '2015.cost.net_price.public.by_income_level.110001-plus',\n",
    "       '2015.cost.net_price.public.by_income_level.30001-48000',\n",
    "       '2015.cost.net_price.public.by_income_level.48001-75000',\n",
    "       '2015.cost.net_price.public.by_income_level.75000-plus',\n",
    "       '2015.cost.net_price.public.by_income_level.75001-110000']].min(axis=1)"
   ]
  },
  {
   "cell_type": "code",
   "execution_count": 276,
   "metadata": {
    "collapsed": true
   },
   "outputs": [],
   "source": [
    "school_df['Avg_Net_Price'] = school_df['2015.cost.avg_net_price.overall']"
   ]
  },
  {
   "cell_type": "code",
   "execution_count": 277,
   "metadata": {
    "collapsed": true
   },
   "outputs": [],
   "source": [
    "school_df['Total_Cost'] =  school_df['2015.cost.avg_net_price.overall']\n"
   ]
  },
  {
   "cell_type": "markdown",
   "metadata": {},
   "source": [
    "#### Feature Engineering:  Combine SAT Scores to Total (Eliminate Writing Score as many schools do not report) "
   ]
  },
  {
   "cell_type": "code",
   "execution_count": 278,
   "metadata": {},
   "outputs": [],
   "source": [
    "school_df['SAT_25th_Cum'] = school_df['2015.admissions.sat_scores.25th_percentile.critical_reading'] + school_df['2015.admissions.sat_scores.25th_percentile.math']"
   ]
  },
  {
   "cell_type": "code",
   "execution_count": 279,
   "metadata": {
    "collapsed": true
   },
   "outputs": [],
   "source": [
    "school_df['SAT_75th_Cum'] = school_df['2015.admissions.sat_scores.75th_percentile.critical_reading'] + school_df['2015.admissions.sat_scores.75th_percentile.math']"
   ]
  },
  {
   "cell_type": "markdown",
   "metadata": {},
   "source": [
    "#### Feature Engineering:   ACT Scores"
   ]
  },
  {
   "cell_type": "code",
   "execution_count": 280,
   "metadata": {
    "collapsed": true
   },
   "outputs": [],
   "source": [
    "school_df['ACT_25th'] = school_df['2015.admissions.act_scores.25th_percentile.cumulative']"
   ]
  },
  {
   "cell_type": "code",
   "execution_count": 281,
   "metadata": {
    "collapsed": true
   },
   "outputs": [],
   "source": [
    "school_df['ACT_75th'] = school_df['2015.admissions.act_scores.75th_percentile.cumulative']"
   ]
  },
  {
   "cell_type": "markdown",
   "metadata": {},
   "source": [
    "#### Filter out columns that have been combined in feature engineering"
   ]
  },
  {
   "cell_type": "code",
   "execution_count": 282,
   "metadata": {},
   "outputs": [],
   "source": [
    "school_2 = school_df[['2013.earnings.10_yrs_after_entry.working_not_enrolled.mean_earnings',\n",
    "       '2015.admissions.admission_rate.overall',\n",
    "       '2015.aid.federal_loan_rate', '2015.aid.median_debt.completers.overall',\n",
    "       '2015.aid.pell_grant_rate',\n",
    "       '2015.student.size', 'id', 'school.degrees_awarded.predominant', 'school.name', 'High_Net_Price', 'Low_Net_Price',\n",
    "       'Avg_Net_Price', 'SAT_25th_Cum', 'SAT_75th_Cum', 'ACT_25th',\n",
    "       'ACT_75th', 'Total_Cost']]"
   ]
  },
  {
   "cell_type": "code",
   "execution_count": 283,
   "metadata": {},
   "outputs": [
    {
     "data": {
      "text/plain": [
       "2013.earnings.10_yrs_after_entry.working_not_enrolled.mean_earnings    174\n",
       "2015.admissions.admission_rate.overall                                 428\n",
       "2015.aid.federal_loan_rate                                               5\n",
       "2015.aid.median_debt.completers.overall                                162\n",
       "2015.aid.pell_grant_rate                                                 5\n",
       "2015.student.size                                                        3\n",
       "id                                                                       0\n",
       "school.degrees_awarded.predominant                                       0\n",
       "school.name                                                              0\n",
       "High_Net_Price                                                         106\n",
       "Low_Net_Price                                                          106\n",
       "Avg_Net_Price                                                          106\n",
       "SAT_25th_Cum                                                           906\n",
       "SAT_75th_Cum                                                           906\n",
       "ACT_25th                                                               863\n",
       "ACT_75th                                                               863\n",
       "Total_Cost                                                             106\n",
       "dtype: int64"
      ]
     },
     "execution_count": 283,
     "metadata": {},
     "output_type": "execute_result"
    }
   ],
   "source": [
    "school_2.isnull().sum()"
   ]
  },
  {
   "cell_type": "code",
   "execution_count": 284,
   "metadata": {},
   "outputs": [],
   "source": [
    "school_2.columns = ['Earnings_10yrs',\n",
    "       'Admission_Rate', 'Fed_Loan_Rate',\n",
    "       'Median_Debt', 'Pell_Grant_Rate','Student_Size', 'ID',\n",
    "       'Degrees_Awarded', 'School_Name','High_Net_Price', 'Low_Net_Price',\n",
    "       'Avg_Net_Price', 'SAT_25th_Cum', 'SAT_75th_Cum', 'ACT_25th',\n",
    "       'ACT_75th', 'Total_Cost']"
   ]
  },
  {
   "cell_type": "markdown",
   "metadata": {},
   "source": [
    "## Drop schools out of dataset without cost & earnings information"
   ]
  },
  {
   "cell_type": "markdown",
   "metadata": {},
   "source": [
    "Although we may lose some important schools, the unavailable information makes it worthless in this study.  Admission Rate & Median Debt are less important so we will keep and zero out null values for these columns."
   ]
  },
  {
   "cell_type": "code",
   "execution_count": 285,
   "metadata": {},
   "outputs": [],
   "source": [
    "school_2 = school_2.dropna(subset=['Avg_Net_Price','Total_Cost'], how='all')"
   ]
  },
  {
   "cell_type": "code",
   "execution_count": 286,
   "metadata": {},
   "outputs": [],
   "source": [
    "school_2 = school_2.dropna(subset=['Earnings_10yrs'], how='all')"
   ]
  },
  {
   "cell_type": "code",
   "execution_count": 287,
   "metadata": {
    "scrolled": true
   },
   "outputs": [
    {
     "data": {
      "text/plain": [
       "Earnings_10yrs       0\n",
       "Admission_Rate     295\n",
       "Fed_Loan_Rate        0\n",
       "Median_Debt         49\n",
       "Pell_Grant_Rate      0\n",
       "Student_Size         0\n",
       "ID                   0\n",
       "Degrees_Awarded      0\n",
       "School_Name          0\n",
       "High_Net_Price       0\n",
       "Low_Net_Price        0\n",
       "Avg_Net_Price        0\n",
       "SAT_25th_Cum       689\n",
       "SAT_75th_Cum       689\n",
       "ACT_25th           646\n",
       "ACT_75th           646\n",
       "Total_Cost           0\n",
       "dtype: int64"
      ]
     },
     "execution_count": 287,
     "metadata": {},
     "output_type": "execute_result"
    }
   ],
   "source": [
    "school_2.isnull().sum()"
   ]
  },
  {
   "cell_type": "code",
   "execution_count": 288,
   "metadata": {
    "scrolled": true
   },
   "outputs": [
    {
     "data": {
      "text/plain": [
       "(1773, 17)"
      ]
     },
     "execution_count": 288,
     "metadata": {},
     "output_type": "execute_result"
    }
   ],
   "source": [
    "school_2.shape"
   ]
  },
  {
   "cell_type": "markdown",
   "metadata": {},
   "source": [
    "Fill missing admission rates with mean  "
   ]
  },
  {
   "cell_type": "code",
   "execution_count": 289,
   "metadata": {},
   "outputs": [],
   "source": [
    "school_2['Admission_Rate']= school_2['Admission_Rate'].fillna((school_2['Admission_Rate'].mean()))"
   ]
  },
  {
   "cell_type": "markdown",
   "metadata": {},
   "source": [
    "Fill missing median debt with mean"
   ]
  },
  {
   "cell_type": "code",
   "execution_count": 290,
   "metadata": {},
   "outputs": [],
   "source": [
    "school_2['Median_Debt'] = school_2['Median_Debt'].fillna((school_2['Median_Debt'].mean()))"
   ]
  },
  {
   "cell_type": "code",
   "execution_count": 291,
   "metadata": {},
   "outputs": [
    {
     "data": {
      "text/plain": [
       "Earnings_10yrs       0\n",
       "Admission_Rate       0\n",
       "Fed_Loan_Rate        0\n",
       "Median_Debt          0\n",
       "Pell_Grant_Rate      0\n",
       "Student_Size         0\n",
       "ID                   0\n",
       "Degrees_Awarded      0\n",
       "School_Name          0\n",
       "High_Net_Price       0\n",
       "Low_Net_Price        0\n",
       "Avg_Net_Price        0\n",
       "SAT_25th_Cum       689\n",
       "SAT_75th_Cum       689\n",
       "ACT_25th           646\n",
       "ACT_75th           646\n",
       "Total_Cost           0\n",
       "dtype: int64"
      ]
     },
     "execution_count": 291,
     "metadata": {},
     "output_type": "execute_result"
    }
   ],
   "source": [
    "school_2.isnull().sum()"
   ]
  },
  {
   "cell_type": "markdown",
   "metadata": {},
   "source": [
    "## Dateframe without SAT/ ACT Scores"
   ]
  },
  {
   "cell_type": "code",
   "execution_count": 292,
   "metadata": {
    "collapsed": true
   },
   "outputs": [],
   "source": [
    "school_no_scores = school_2[['Earnings_10yrs', 'Admission_Rate', 'Fed_Loan_Rate', 'Median_Debt',\n",
    "       'Pell_Grant_Rate', 'Student_Size', 'ID', 'Degrees_Awarded',\n",
    "       'School_Name', 'High_Net_Price', 'Low_Net_Price', 'Avg_Net_Price', 'Total_Cost']]"
   ]
  },
  {
   "cell_type": "code",
   "execution_count": 293,
   "metadata": {
    "collapsed": true
   },
   "outputs": [],
   "source": [
    "school_no_scores.to_csv(path_or_buf = 'School_No_Scores', index=False)"
   ]
  },
  {
   "cell_type": "markdown",
   "metadata": {},
   "source": [
    "## Dateframe with SAT/ ACT Scores"
   ]
  },
  {
   "cell_type": "code",
   "execution_count": 295,
   "metadata": {},
   "outputs": [],
   "source": [
    "school_scores = school_scores.dropna()"
   ]
  },
  {
   "cell_type": "code",
   "execution_count": 296,
   "metadata": {
    "scrolled": false
   },
   "outputs": [
    {
     "data": {
      "text/plain": [
       "Earnings_10yrs     0\n",
       "Admission_Rate     0\n",
       "Fed_Loan_Rate      0\n",
       "Median_Debt        0\n",
       "Pell_Grant_Rate    0\n",
       "Student_Size       0\n",
       "ID                 0\n",
       "Degrees_Awarded    0\n",
       "School_Name        0\n",
       "High_Net_Price     0\n",
       "Low_Net_Price      0\n",
       "Avg_Net_Price      0\n",
       "SAT_25th_Cum       0\n",
       "SAT_75th_Cum       0\n",
       "ACT_25th           0\n",
       "ACT_75th           0\n",
       "Total_Cost         0\n",
       "dtype: int64"
      ]
     },
     "execution_count": 296,
     "metadata": {},
     "output_type": "execute_result"
    }
   ],
   "source": [
    "school_scores.isnull().sum()"
   ]
  },
  {
   "cell_type": "code",
   "execution_count": 297,
   "metadata": {
    "scrolled": false
   },
   "outputs": [
    {
     "data": {
      "text/plain": [
       "(1052, 17)"
      ]
     },
     "execution_count": 297,
     "metadata": {},
     "output_type": "execute_result"
    }
   ],
   "source": [
    "school_scores.shape"
   ]
  },
  {
   "cell_type": "code",
   "execution_count": 298,
   "metadata": {
    "collapsed": true
   },
   "outputs": [],
   "source": [
    "school_scores.to_csv(path_or_buf = 'School_Scores', index=False)"
   ]
  }
 ],
 "metadata": {
  "kernelspec": {
   "display_name": "Python 3",
   "language": "python",
   "name": "python3"
  },
  "language_info": {
   "codemirror_mode": {
    "name": "ipython",
    "version": 3
   },
   "file_extension": ".py",
   "mimetype": "text/x-python",
   "name": "python",
   "nbconvert_exporter": "python",
   "pygments_lexer": "ipython3",
   "version": "3.6.1"
  }
 },
 "nbformat": 4,
 "nbformat_minor": 2
}
