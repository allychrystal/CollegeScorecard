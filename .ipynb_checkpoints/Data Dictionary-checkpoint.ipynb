{
 "cells": [
  {
   "cell_type": "markdown",
   "metadata": {},
   "source": [
    "## Project Objective:  \n",
    "\n",
    "A database of colleges and universities and their average price (tuition) & average student earnings.  The goal is to identify schools that offer a balanced trade-off of low cost and high earnings for low income students with programs that align with student needs.  "
   ]
  },
  {
   "cell_type": "markdown",
   "metadata": {},
   "source": [
    "## Data Dictionary:"
   ]
  },
  {
   "cell_type": "markdown",
   "metadata": {},
   "source": [
    "**School_Name**\n",
    "- Name of institution (school, college or university)"
   ]
  },
  {
   "cell_type": "markdown",
   "metadata": {},
   "source": [
    "**ID**\n",
    "- Identification number from College Scorecard "
   ]
  },
  {
   "cell_type": "markdown",
   "metadata": {},
   "source": [
    "**Degrees_Awarded**\n",
    "- The number of predominant awards or higher degree of education programs offered (i.e. Bachelors, Associates, Certificate)"
   ]
  },
  {
   "cell_type": "markdown",
   "metadata": {},
   "source": [
    "**Admisson_Rate**\n",
    "- The percentage of applicants accepted to program"
   ]
  },
  {
   "cell_type": "markdown",
   "metadata": {},
   "source": [
    "**Avg_Net_Price**\n",
    "- Average paid tuition for all students including discounts for financial aid"
   ]
  },
  {
   "cell_type": "markdown",
   "metadata": {},
   "source": [
    "**Low_Net_Price**\n",
    "- Average paid tuition by a student in the lowest income bracket (0-30,000 or 0-48,000 depending on school's reports)"
   ]
  },
  {
   "cell_type": "markdown",
   "metadata": {},
   "source": [
    "**High_Net_Price**\n",
    "- Average paid tuition by a student in the highest income bracket (70,000plus or 100,000plus depending on school's reports)"
   ]
  },
  {
   "cell_type": "markdown",
   "metadata": {},
   "source": [
    "**Total_Cost**\n",
    "- Yearly average cost of attendance including  tuition, housing, books and meal-plans "
   ]
  },
  {
   "cell_type": "markdown",
   "metadata": {},
   "source": [
    "**Median_Debt**\n",
    "- Average amount of debt upon graduation for completers (graduates) only"
   ]
  },
  {
   "cell_type": "markdown",
   "metadata": {},
   "source": [
    "**Earnings_10yrs**\n",
    "- Average salary reported by alumni 10 years after graduation, completers (graduates) only"
   ]
  },
  {
   "cell_type": "markdown",
   "metadata": {},
   "source": [
    "**Student_Size**\n",
    "- Number of students enrolled in a full-time program at school"
   ]
  },
  {
   "cell_type": "markdown",
   "metadata": {},
   "source": [
    "**SAT_25th_Cum**\n",
    "- The 25th percentile combined SAT score for  writing and critical reading of students accepted to school"
   ]
  },
  {
   "cell_type": "markdown",
   "metadata": {},
   "source": [
    "**SAT_75th_Cum**\n",
    "- The 75th percentile combined SAT score for  writing and critical reading of students accepted to school"
   ]
  },
  {
   "cell_type": "markdown",
   "metadata": {},
   "source": [
    "**ACT_25th**\n",
    "- The 25th percentile cumulative ACT score of students accepted to school"
   ]
  },
  {
   "cell_type": "markdown",
   "metadata": {},
   "source": [
    "**ACT_75th**\n",
    "- The 75th percentile cumulative ACT score of students accepted to school"
   ]
  },
  {
   "cell_type": "markdown",
   "metadata": {},
   "source": [
    "**Fed_Loan_Rate**\n",
    "- The share of students who received Federal Loans in a given year"
   ]
  },
  {
   "cell_type": "markdown",
   "metadata": {},
   "source": [
    "**Pell_Grant_Rate**\n",
    "- The share of undergraduate students who received Pell Grants in a given year"
   ]
  }
 ],
 "metadata": {
  "kernelspec": {
   "display_name": "Python 3",
   "language": "python",
   "name": "python3"
  },
  "language_info": {
   "codemirror_mode": {
    "name": "ipython",
    "version": 3
   },
   "file_extension": ".py",
   "mimetype": "text/x-python",
   "name": "python",
   "nbconvert_exporter": "python",
   "pygments_lexer": "ipython3",
   "version": "3.6.1"
  }
 },
 "nbformat": 4,
 "nbformat_minor": 2
}
