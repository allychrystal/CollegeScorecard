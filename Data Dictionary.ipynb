{
 "cells": [
  {
   "cell_type": "markdown",
   "metadata": {},
   "source": [
    "## Project Objective:  \n",
    "\n",
    "A database of colleges and universities and their average price(tuition) & average student earnings.  The goal is to identify schools that offer a balanced trade-off of low cost and high earnings for low income students with programs that align with student needs.  "
   ]
  },
  {
   "cell_type": "markdown",
   "metadata": {},
   "source": [
    "## Data Dictionary:"
   ]
  },
  {
   "cell_type": "markdown",
   "metadata": {},
   "source": [
    "**School:**\n",
    "- Name of school"
   ]
  },
  {
   "cell_type": "markdown",
   "metadata": {},
   "source": [
    "**Average Price:**\n",
    "- Average paid tuition for all students"
   ]
  },
  {
   "cell_type": "markdown",
   "metadata": {},
   "source": [
    "**Low_Income_Price:**\n",
    "- Average paid tuition by a student in the lowest income bracket (0-30,000 or 0-48,000 depending on school's reports)"
   ]
  },
  {
   "cell_type": "markdown",
   "metadata": {},
   "source": [
    "**High_Income_Price:**\n",
    "- Average paid tuition by a student in the highest income bracket (70,000plus or 100,000plus depending on school's reports)"
   ]
  },
  {
   "cell_type": "markdown",
   "metadata": {},
   "source": [
    "**Median_Debt:**\n",
    "- Average student loans for completers (graduates) per year"
   ]
  },
  {
   "cell_type": "markdown",
   "metadata": {},
   "source": [
    "**Mean_Earnings:**\n",
    "- Average student salary per year, 10 years after graduation, completers (graduates) only "
   ]
  },
  {
   "cell_type": "markdown",
   "metadata": {},
   "source": [
    "**Repayment:**\n",
    "- Average repaid loan, 1 year after graduation, completers(graduates) only "
   ]
  },
  {
   "cell_type": "markdown",
   "metadata": {},
   "source": [
    "### Program Focus: The percentage of class categories offered at school "
   ]
  },
  {
   "cell_type": "markdown",
   "metadata": {},
   "source": [
    "**Sci:**\n",
    "- Sciences\n",
    "- biological, physical_science, family_consumer_science"
   ]
  },
  {
   "cell_type": "markdown",
   "metadata": {},
   "source": [
    "**Tech_Engn:**\n",
    "- Technology & Engineering\n",
    "- computer, communications_technology, engineering, engineering_technology, mechanic_repair_technology, science_technology"
   ]
  },
  {
   "cell_type": "markdown",
   "metadata": {},
   "source": [
    "**Bus_Math:**\n",
    "- Business & Math\n",
    "- business_marketing, mathematics, precision_production"
   ]
  },
  {
   "cell_type": "markdown",
   "metadata": {},
   "source": [
    "**Specialty:**\n",
    "- Professional Specialty\n",
    "- architecture, transportation, legal"
   ]
  },
  {
   "cell_type": "markdown",
   "metadata": {},
   "source": [
    "**Trade:**\n",
    "- Profressional Trade\n",
    "- construction, military, security_law_enforcement\n",
    "    "
   ]
  },
  {
   "cell_type": "markdown",
   "metadata": {},
   "source": [
    "**Lib_Arts:**\n",
    "- Liberal Arts\n",
    "- agriculture, communication, education, english, ethnic_cultural_gender, health, history, humanities, language, library, multidiscipline, parks_recreation_fitness, personal_culinary,philosophy_religious, public_administration_social_service, resources, theology_religious_vocation,  visual_performing"
   ]
  }
 ],
 "metadata": {
  "kernelspec": {
   "display_name": "Python 3",
   "language": "python",
   "name": "python3"
  },
  "language_info": {
   "codemirror_mode": {
    "name": "ipython",
    "version": 3
   },
   "file_extension": ".py",
   "mimetype": "text/x-python",
   "name": "python",
   "nbconvert_exporter": "python",
   "pygments_lexer": "ipython3",
   "version": "3.6.1"
  }
 },
 "nbformat": 4,
 "nbformat_minor": 2
}
